{
 "cells": [
  {
   "cell_type": "markdown",
   "metadata": {},
   "source": [
    "# OS Maps Example\n",
    "\n",
    "OS Maps Example in Python. Adapted from the tutorial [price-paid-spatial-distribution](https://github.com/OrdnanceSurvey/os-data-hub-tutorials/tree/master/data-science/price-paid-spatial-distribution) by Ordnance Survey."
   ]
  },
  {
   "cell_type": "markdown",
   "metadata": {},
   "source": [
    "### Step 0: Install requirements\n",
    "\n",
    "If you are using this notebook directly from GitHub, all the requirements should be in `requirements.txt`. So you can just install the requirements using the provided `make` job:\n",
    "\n",
    "```shell\n",
    "make requirements\n",
    "```"
   ]
  },
  {
   "cell_type": "markdown",
   "metadata": {},
   "source": [
    "### Step 1: Import Python libraries"
   ]
  },
  {
   "cell_type": "code",
   "execution_count": null,
   "metadata": {},
   "outputs": [],
   "source": [
    "import os\n",
    "import fiona\n",
    "import folium\n",
    "import geopandas as gpd\n",
    "import matplotlib as mpl\n",
    "import matplotlib.pyplot as plt\n",
    "import numpy as np\n",
    "import pandas as pd\n",
    "import requests\n",
    "from datetime import datetime\n",
    "from folium.plugins import FloatImage\n",
    "from mpl_toolkits.axes_grid1 import make_axes_locatable\n",
    "from zipfile import ZipFile\n",
    "\n",
    "print(\"✅  Imported libraries\")"
   ]
  },
  {
   "cell_type": "markdown",
   "metadata": {},
   "source": [
    "### Step 2: Request LAD boundary from the ONS Open Geography Portal WFS"
   ]
  },
  {
   "cell_type": "code",
   "execution_count": null,
   "metadata": {},
   "outputs": [],
   "source": [
    "# ONS Open Geography Portal WFS base path: https://ons-inspire.esriuk.com\n",
    "# ONS WFS endpoint path: /arcgis/services/Administrative_Boundaries\n",
    "#                        /Local_Authority_Districts_May_2020_Boundaries_UK_BFE\n",
    "#                        /MapServer/WFSServer?\n",
    "wfs_endpoint = ('https://ons-inspire.esriuk.com/arcgis/services/Administrative_Boundaries'\n",
    "                '/Local_Authority_Districts_May_2020_Boundaries_UK_BFE/MapServer/WFSServer?')\n",
    "\n",
    "# Define WFS parameters \n",
    "service = 'wfs'\n",
    "request = 'GetFeature'\n",
    "version = '2.0.0'\n",
    "typeNames = ('Administrative_Boundaries_Local_Authority_Districts_May_2020_Boundaries_UK_BFE:'\n",
    "             'Local_Authority_Districts__May_2020__Full_Extent_Boundaries_UK')\n",
    "outputFormat = 'GEOJSON'\n",
    "srsName = 'EPSG:4326'\n",
    "# Define attribute-based filter using OGC WFS filter encoding specification\n",
    "# Filter specifies the Government Statistical Service (GSS) Code for the Southampton local authority district area\n",
    "filter = ('<ogc:Filter>'\n",
    "              '<ogc:PropertyIsEqualTo>'\n",
    "                  '<ogc:PropertyName>lad20cd</ogc:PropertyName>'\n",
    "                  '<ogc:Literal>E06000045</ogc:Literal>'\n",
    "              '</ogc:PropertyIsEqualTo>'\n",
    "          '</ogc:Filter>')\n",
    "\n",
    "# LA code for Liverpool: E08000012\n",
    "# LA code for Southampton: E06000045\n",
    "\n",
    "# Represent WFS parameters in a dictionary and collapse OGC filter into a single line\n",
    "params_wfs = {'service':service, \n",
    "              'request':request,\n",
    "              'version':version,\n",
    "              'typeNames':typeNames,\n",
    "              'outputFormat':outputFormat,\n",
    "              'srsName':srsName,\n",
    "              'filter':filter}\n",
    "\n",
    "# Make HTTP GET request and raise exception if request was unsuccessful\n",
    "# Turn off verification to remove the need to whitelist certificate\n",
    "try:\n",
    "    r = requests.get(wfs_endpoint, params=params_wfs)\n",
    "    r.raise_for_status()\n",
    "except requests.exceptions.RequestException as e:  \n",
    "    print(e)\n",
    "\n",
    "# Decode JSON payload returned by request    \n",
    "payload = r.json()"
   ]
  },
  {
   "cell_type": "code",
   "execution_count": null,
   "metadata": {},
   "outputs": [],
   "source": [
    "# Define coordinate reference system (CRS) codes\n",
    "# WGS 84\n",
    "WGS84 = 'epsg:4326'\n",
    "# British National Grid\n",
    "BNG = 'epsg:27700'\n",
    "\n",
    "# Transform GeoJSON features into a GeoPandas GeoDataFrame\n",
    "gdf_boundary = gpd.GeoDataFrame.from_features(payload['features'], crs=WGS84)\n",
    "\n",
    "# Obtain polygon centroid point geometry\n",
    "boundary_centroid = gdf_boundary['geometry'].centroid\n",
    "\n",
    "# Obtain x and y coordinates of centroid point geometry\n",
    "x = boundary_centroid.x\n",
    "y = boundary_centroid.y\n",
    "\n",
    "# Obtain bounds of polygon geometry\n",
    "bounds = gdf_boundary['geometry'][0].bounds\n",
    "\n",
    "# Define a OGC WFS filter compliant bounding box for the polygon geometry\n",
    "# bottom-left y, bottom-left x, top-right y, top-right x\n",
    "# bbox = str(bounds[1]) + ',' + str(bounds[0]) + ',' + str(bounds[3]) + ',' + str(bounds[2])\n",
    "bbox = ','.join([str(bounds[1]), str(bounds[0]), str(bounds[3]), str(bounds[2])])\n",
    "\n",
    "# Plot boundary geometry\n",
    "ax = gdf_boundary.plot(color='#ff1f5b')\n",
    "# Turn plot axis off\n",
    "ax.axis('off')\n",
    "\n",
    "print('✅  Transformed ONS WFS GeoJSON payload into a GeoDataFrame')"
   ]
  },
  {
   "cell_type": "markdown",
   "metadata": {},
   "source": [
    "### Step 3: Construct a URL path for the OS Maps API ZXY endpoint\n",
    "\n",
    "Note: You must generate your own OS Maps API Key at https://osdatahub.os.uk/ and store it in a .secrets file\n",
    "\n",
    "See [#creating-a-secrets-file](https://github.com/DataS-DHSC/os-maps-example#creating-a-secrets-file) in the project README for more information"
   ]
  },
  {
   "cell_type": "code",
   "execution_count": null,
   "metadata": {},
   "outputs": [],
   "source": [
    "# OS Data Hub base path: https://api.os.uk\n",
    "# OS Maps API (ZXY) endpoint path: /maps/raster/v1/zxy/layer/{z}/{x}/{y}.png?\n",
    "\n",
    "key = os.environ['OS_MAPS_API_KEY'] \n",
    "\n",
    "layer = 'Light_3857'\n",
    "\n",
    "zxy_path = 'https://api.os.uk/maps/raster/v1/zxy/{}/{{z}}/{{x}}/{{y}}.png?key={}'.format(layer, key)\n",
    "\n",
    "print('✅ Constructed OS Maps ZXY API path: {}'.format(zxy_path))"
   ]
  },
  {
   "cell_type": "code",
   "execution_count": null,
   "metadata": {},
   "outputs": [],
   "source": []
  }
 ],
 "metadata": {
  "kernelspec": {
   "display_name": "",
   "language": "python",
   "name": ""
  },
  "language_info": {
   "codemirror_mode": {
    "name": "ipython",
    "version": 3
   },
   "file_extension": ".py",
   "mimetype": "text/x-python",
   "name": "python",
   "nbconvert_exporter": "python",
   "pygments_lexer": "ipython3",
   "version": "3.8.5"
  }
 },
 "nbformat": 4,
 "nbformat_minor": 4
}
